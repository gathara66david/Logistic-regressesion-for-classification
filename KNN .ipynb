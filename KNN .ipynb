{
 "cells": [
  {
   "cell_type": "code",
   "execution_count": 1,
   "metadata": {},
   "outputs": [],
   "source": [
    "import pandas as pd"
   ]
  },
  {
   "cell_type": "code",
   "execution_count": 2,
   "metadata": {},
   "outputs": [],
   "source": [
    "df = pd.read_csv(r\"C:\\Users\\David gathara marigi\\Downloads\\UCI_Credit_Card.csv\")"
   ]
  },
  {
   "cell_type": "code",
   "execution_count": 4,
   "metadata": {},
   "outputs": [
    {
     "ename": "SyntaxError",
     "evalue": "unexpected character after line continuation character (1467220161.py, line 1)",
     "output_type": "error",
     "traceback": [
      "\u001b[1;36m  Cell \u001b[1;32mIn[4], line 1\u001b[1;36m\u001b[0m\n\u001b[1;33m    numeric_columns = ['LIMIT_BAL', 'AGE'] + \\ [f'BILL_AMT{i}' for i in range(1, 7)] + \\ [f'PAY_AMT{i}' for i in range(1, 7)]\u001b[0m\n\u001b[1;37m                                              ^\u001b[0m\n\u001b[1;31mSyntaxError\u001b[0m\u001b[1;31m:\u001b[0m unexpected character after line continuation character\n"
     ]
    }
   ],
   "source": [
    "numeric_columns = ['LIMIT_BAL', 'AGE'] + \\ [f'BILL_AMT{i}' for i in range(1, 7)] + \\ [f'PAY_AMT{i}' for i in range(1, 7)]\n",
    "categorical_columns = ['SEX', 'EDUCATION', 'MARRIAGE'] + \\ ['PAY_0'] + [f'PAY_{i}' for i in range(2, 6)]"
   ]
  },
  {
   "cell_type": "code",
   "execution_count": null,
   "metadata": {},
   "outputs": [],
   "source": []
  },
  {
   "cell_type": "code",
   "execution_count": null,
   "metadata": {},
   "outputs": [],
   "source": [
    "scaler = StandardScaler()\n",
    "scaled_numeric_features = scaler.fit_transform(\n",
    " train_features[numeric_columns]\n",
    ")\n",
    "scaled_features = pd.concat(\n",
    " [pd.DataFrame(data=scaled_numeric_features,\n",
    " columns=numeric_columns,\n",
    " index=df.index),\n",
    " train_features[categorical_columns]],\n",
    " axis=1\n",
    ")"
   ]
  },
  {
   "cell_type": "code",
   "execution_count": 5,
   "metadata": {},
   "outputs": [],
   "source": [
    "from sklearn.neighbors import KNeighborsClassifier"
   ]
  },
  {
   "cell_type": "code",
   "execution_count": null,
   "metadata": {},
   "outputs": [],
   "source": [
    "knn = KNeighborsClassifier(n_jobs=-1)\n",
    "knn.fit(scaled_features, train_targets)\n",
    "knn.score(scaled_features, train_targets"
   ]
  }
 ],
 "metadata": {
  "kernelspec": {
   "display_name": "Python 3",
   "language": "python",
   "name": "python3"
  },
  "language_info": {
   "codemirror_mode": {
    "name": "ipython",
    "version": 3
   },
   "file_extension": ".py",
   "mimetype": "text/x-python",
   "name": "python",
   "nbconvert_exporter": "python",
   "pygments_lexer": "ipython3",
   "version": "3.11.9"
  }
 },
 "nbformat": 4,
 "nbformat_minor": 2
}
