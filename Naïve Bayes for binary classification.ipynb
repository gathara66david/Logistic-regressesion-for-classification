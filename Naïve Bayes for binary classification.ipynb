{
 "cells": [
  {
   "cell_type": "code",
   "execution_count": 1,
   "metadata": {},
   "outputs": [],
   "source": [
    "import pandas as pd"
   ]
  },
  {
   "cell_type": "code",
   "execution_count": 2,
   "metadata": {},
   "outputs": [],
   "source": [
    "df = pd.read_csv(r\"C:\\Users\\David gathara marigi\\Downloads\\UCI_Credit_Card.csv\")"
   ]
  },
  {
   "cell_type": "code",
   "execution_count": 3,
   "metadata": {},
   "outputs": [
    {
     "name": "stdout",
     "output_type": "stream",
     "text": [
      "Index(['ID', 'LIMIT_BAL', 'SEX', 'EDUCATION', 'MARRIAGE', 'AGE', 'PAY_0',\n",
      "       'PAY_2', 'PAY_3', 'PAY_4', 'PAY_5', 'PAY_6', 'BILL_AMT1', 'BILL_AMT2',\n",
      "       'BILL_AMT3', 'BILL_AMT4', 'BILL_AMT5', 'BILL_AMT6', 'PAY_AMT1',\n",
      "       'PAY_AMT2', 'PAY_AMT3', 'PAY_AMT4', 'PAY_AMT5', 'PAY_AMT6',\n",
      "       'default.payment.next.month'],\n",
      "      dtype='object')\n"
     ]
    }
   ],
   "source": [
    "print(df.columns)"
   ]
  },
  {
   "cell_type": "code",
   "execution_count": 4,
   "metadata": {},
   "outputs": [
    {
     "data": {
      "text/plain": [
       "0.15773333333333334"
      ]
     },
     "execution_count": 4,
     "metadata": {},
     "output_type": "execute_result"
    }
   ],
   "source": [
    "df[(df['default.payment.next.month'] == 0) & (df['PAY_0'] == -1)].shape[0] / df.shape[0]"
   ]
  },
  {
   "cell_type": "code",
   "execution_count": 5,
   "metadata": {},
   "outputs": [],
   "source": [
    "train_features = df.drop(['ID', 'default.payment.next.month'], axis=1)\n",
    "train_target = df['default.payment.next.month']"
   ]
  },
  {
   "cell_type": "code",
   "execution_count": 6,
   "metadata": {},
   "outputs": [],
   "source": [
    "from sklearn.impute import SimpleImputer\n",
    "from sklearn.preprocessing import StandardScaler\n",
    "imputer = SimpleImputer(strategy='mean')\n",
    "train_features_imputed = imputer.fit_transform(train_features)\n",
    "scaler = StandardScaler()\n",
    "train_features_scaled = scaler.fit_transform(train_features_imputed)"
   ]
  },
  {
   "cell_type": "code",
   "execution_count": 7,
   "metadata": {},
   "outputs": [
    {
     "name": "stdout",
     "output_type": "stream",
     "text": [
      "Feature correlations with target:\n",
      "PAY_0        0.324794\n",
      "PAY_2        0.263551\n",
      "PAY_3        0.235253\n",
      "PAY_4        0.216614\n",
      "PAY_5        0.204149\n",
      "PAY_6        0.186866\n",
      "EDUCATION    0.028006\n",
      "AGE          0.013890\n",
      "BILL_AMT6   -0.005372\n",
      "BILL_AMT5   -0.006760\n",
      "BILL_AMT4   -0.010156\n",
      "BILL_AMT3   -0.014076\n",
      "BILL_AMT2   -0.014193\n",
      "BILL_AMT1   -0.019644\n",
      "MARRIAGE    -0.024339\n",
      "SEX         -0.039961\n",
      "PAY_AMT6    -0.053183\n",
      "PAY_AMT5    -0.055124\n",
      "PAY_AMT3    -0.056250\n",
      "PAY_AMT4    -0.056827\n",
      "PAY_AMT2    -0.058579\n",
      "PAY_AMT1    -0.072929\n",
      "LIMIT_BAL   -0.153520\n",
      "dtype: float64\n"
     ]
    }
   ],
   "source": [
    "correlations = pd.DataFrame(train_features, columns=train_features.columns).corrwith(train_target)\n",
    "print('Feature correlations with target:')\n",
    "print(correlations.sort_values(ascending=False))"
   ]
  },
  {
   "cell_type": "code",
   "execution_count": 8,
   "metadata": {},
   "outputs": [],
   "source": [
    "from sklearn.linear_model import LogisticRegression\n",
    "from sklearn.model_selection import GridSearchCV, cross_val_score\n",
    "from sklearn.impute import SimpleImputer\n",
    "from sklearn.preprocessing import StandardScaler"
   ]
  },
  {
   "cell_type": "code",
   "execution_count": 9,
   "metadata": {},
   "outputs": [
    {
     "name": "stdout",
     "output_type": "stream",
     "text": [
      "Best parameters: {'C': 100}\n",
      "Cross-validation scores: [0.803      0.80583333 0.8125     0.81616667 0.81183333]\n",
      "Mean CV score: 0.8098666666666666\n"
     ]
    }
   ],
   "source": [
    "if 'train_features_scaled' not in globals():\n",
    "\timputer = SimpleImputer(strategy='mean')\n",
    "\ttrain_features_imputed = imputer.fit_transform(train_features)\n",
    "\tscaler = StandardScaler()\n",
    "\ttrain_features_scaled = scaler.fit_transform(train_features_imputed)\n",
    "\n",
    "param_grid = { 'C': [0.01, 0.1, 1, 10, 100] }\n",
    "lr = LogisticRegression(max_iter=1000)\n",
    "grid = GridSearchCV(lr, param_grid, cv=5)\n",
    "grid.fit(train_features_scaled, train_target)\n",
    "print('Best parameters:', grid.best_params_)\n",
    "scores = cross_val_score(grid.best_estimator_, train_features_scaled, train_target, cv=5)\n",
    "print('Cross-validation scores:', scores)\n",
    "print('Mean CV score:', scores.mean())"
   ]
  }
 ],
 "metadata": {
  "kernelspec": {
   "display_name": "Python 3",
   "language": "python",
   "name": "python3"
  },
  "language_info": {
   "codemirror_mode": {
    "name": "ipython",
    "version": 3
   },
   "file_extension": ".py",
   "mimetype": "text/x-python",
   "name": "python",
   "nbconvert_exporter": "python",
   "pygments_lexer": "ipython3",
   "version": "3.12.9"
  }
 },
 "nbformat": 4,
 "nbformat_minor": 2
}
