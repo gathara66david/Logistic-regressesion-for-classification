{
 "cells": [
  {
   "cell_type": "code",
   "execution_count": 1,
   "metadata": {},
   "outputs": [],
   "source": [
    "import pandas as pd\n",
    "import ydata_profiling as ProfileReport"
   ]
  },
  {
   "cell_type": "code",
   "execution_count": null,
   "metadata": {},
   "outputs": [
    {
     "data": {
      "application/vnd.jupyter.widget-view+json": {
       "model_id": "c29409b2a8b2451f80d364a9ef34e9b3",
       "version_major": 2,
       "version_minor": 0
      },
      "text/plain": [
       "Summarize dataset:   0%|          | 0/5 [00:00<?, ?it/s]"
      ]
     },
     "metadata": {},
     "output_type": "display_data"
    },
    {
     "data": {
      "application/vnd.jupyter.widget-view+json": {
       "model_id": "d050bd89e26c495584a82941543ac699",
       "version_major": 2,
       "version_minor": 0
      },
      "text/plain": [
       "Generate report structure:   0%|          | 0/1 [00:00<?, ?it/s]"
      ]
     },
     "metadata": {},
     "output_type": "display_data"
    },
    {
     "data": {
      "application/vnd.jupyter.widget-view+json": {
       "model_id": "6d06049ed6dc4919ab9c8900d60d518c",
       "version_major": 2,
       "version_minor": 0
      },
      "text/plain": [
       "Render HTML:   0%|          | 0/1 [00:00<?, ?it/s]"
      ]
     },
     "metadata": {},
     "output_type": "display_data"
    }
   ],
   "source": [
    "data = pd.read_csv(r\"C:\\Users\\David gathara marigi\\Downloads\\UCI_Credit_Card.csv\")\n",
    "report = ProfileReport.ProfileReport(data)\n",
    "report"
   ]
  },
  {
   "cell_type": "code",
   "execution_count": null,
   "metadata": {},
   "outputs": [
    {
     "name": "stdout",
     "output_type": "stream",
     "text": [
      "Index(['ID', 'LIMIT_BAL', 'SEX', 'EDUCATION', 'MARRIAGE', 'AGE', 'PAY_0',\n",
      "       'PAY_2', 'PAY_3', 'PAY_4', 'PAY_5', 'PAY_6', 'BILL_AMT1', 'BILL_AMT2',\n",
      "       'BILL_AMT3', 'BILL_AMT4', 'BILL_AMT5', 'BILL_AMT6', 'PAY_AMT1',\n",
      "       'PAY_AMT2', 'PAY_AMT3', 'PAY_AMT4', 'PAY_AMT5', 'PAY_AMT6',\n",
      "       'default.payment.next.month'],\n",
      "      dtype='object')\n"
     ]
    }
   ],
   "source": [
    "print(data.columns)"
   ]
  },
  {
   "cell_type": "markdown",
   "metadata": {},
   "source": [
    "The above summary shows there are no missing values or duplicates\n",
    "Our target variable that we will be predicting is the \"default payment next\n",
    "month\" column, and all other columns will be features."
   ]
  },
  {
   "cell_type": "code",
   "execution_count": null,
   "metadata": {},
   "outputs": [],
   "source": [
    "train_features = data.drop(['default.payment.next.month'], axis=1)  \n",
    "train_target = data['default.payment.next.month']"
   ]
  },
  {
   "cell_type": "code",
   "execution_count": null,
   "metadata": {},
   "outputs": [],
   "source": [
    "from sklearn.linear_model import LogisticRegression"
   ]
  },
  {
   "cell_type": "code",
   "execution_count": null,
   "metadata": {},
   "outputs": [
    {
     "name": "stderr",
     "output_type": "stream",
     "text": [
      "c:\\Users\\David gathara marigi\\AppData\\Local\\Programs\\Python\\Python311\\Lib\\site-packages\\sklearn\\linear_model\\_logistic.py:465: ConvergenceWarning: lbfgs failed to converge (status=1):\n",
      "STOP: TOTAL NO. of ITERATIONS REACHED LIMIT.\n",
      "\n",
      "Increase the number of iterations (max_iter) or scale the data as shown in:\n",
      "    https://scikit-learn.org/stable/modules/preprocessing.html\n",
      "Please also refer to the documentation for alternative solver options:\n",
      "    https://scikit-learn.org/stable/modules/linear_model.html#logistic-regression\n",
      "  n_iter_i = _check_optimize_result(\n"
     ]
    },
    {
     "data": {
      "text/html": [
       "<style>#sk-container-id-1 {\n",
       "  /* Definition of color scheme common for light and dark mode */\n",
       "  --sklearn-color-text: #000;\n",
       "  --sklearn-color-text-muted: #666;\n",
       "  --sklearn-color-line: gray;\n",
       "  /* Definition of color scheme for unfitted estimators */\n",
       "  --sklearn-color-unfitted-level-0: #fff5e6;\n",
       "  --sklearn-color-unfitted-level-1: #f6e4d2;\n",
       "  --sklearn-color-unfitted-level-2: #ffe0b3;\n",
       "  --sklearn-color-unfitted-level-3: chocolate;\n",
       "  /* Definition of color scheme for fitted estimators */\n",
       "  --sklearn-color-fitted-level-0: #f0f8ff;\n",
       "  --sklearn-color-fitted-level-1: #d4ebff;\n",
       "  --sklearn-color-fitted-level-2: #b3dbfd;\n",
       "  --sklearn-color-fitted-level-3: cornflowerblue;\n",
       "\n",
       "  /* Specific color for light theme */\n",
       "  --sklearn-color-text-on-default-background: var(--sg-text-color, var(--theme-code-foreground, var(--jp-content-font-color1, black)));\n",
       "  --sklearn-color-background: var(--sg-background-color, var(--theme-background, var(--jp-layout-color0, white)));\n",
       "  --sklearn-color-border-box: var(--sg-text-color, var(--theme-code-foreground, var(--jp-content-font-color1, black)));\n",
       "  --sklearn-color-icon: #696969;\n",
       "\n",
       "  @media (prefers-color-scheme: dark) {\n",
       "    /* Redefinition of color scheme for dark theme */\n",
       "    --sklearn-color-text-on-default-background: var(--sg-text-color, var(--theme-code-foreground, var(--jp-content-font-color1, white)));\n",
       "    --sklearn-color-background: var(--sg-background-color, var(--theme-background, var(--jp-layout-color0, #111)));\n",
       "    --sklearn-color-border-box: var(--sg-text-color, var(--theme-code-foreground, var(--jp-content-font-color1, white)));\n",
       "    --sklearn-color-icon: #878787;\n",
       "  }\n",
       "}\n",
       "\n",
       "#sk-container-id-1 {\n",
       "  color: var(--sklearn-color-text);\n",
       "}\n",
       "\n",
       "#sk-container-id-1 pre {\n",
       "  padding: 0;\n",
       "}\n",
       "\n",
       "#sk-container-id-1 input.sk-hidden--visually {\n",
       "  border: 0;\n",
       "  clip: rect(1px 1px 1px 1px);\n",
       "  clip: rect(1px, 1px, 1px, 1px);\n",
       "  height: 1px;\n",
       "  margin: -1px;\n",
       "  overflow: hidden;\n",
       "  padding: 0;\n",
       "  position: absolute;\n",
       "  width: 1px;\n",
       "}\n",
       "\n",
       "#sk-container-id-1 div.sk-dashed-wrapped {\n",
       "  border: 1px dashed var(--sklearn-color-line);\n",
       "  margin: 0 0.4em 0.5em 0.4em;\n",
       "  box-sizing: border-box;\n",
       "  padding-bottom: 0.4em;\n",
       "  background-color: var(--sklearn-color-background);\n",
       "}\n",
       "\n",
       "#sk-container-id-1 div.sk-container {\n",
       "  /* jupyter's `normalize.less` sets `[hidden] { display: none; }`\n",
       "     but bootstrap.min.css set `[hidden] { display: none !important; }`\n",
       "     so we also need the `!important` here to be able to override the\n",
       "     default hidden behavior on the sphinx rendered scikit-learn.org.\n",
       "     See: https://github.com/scikit-learn/scikit-learn/issues/21755 */\n",
       "  display: inline-block !important;\n",
       "  position: relative;\n",
       "}\n",
       "\n",
       "#sk-container-id-1 div.sk-text-repr-fallback {\n",
       "  display: none;\n",
       "}\n",
       "\n",
       "div.sk-parallel-item,\n",
       "div.sk-serial,\n",
       "div.sk-item {\n",
       "  /* draw centered vertical line to link estimators */\n",
       "  background-image: linear-gradient(var(--sklearn-color-text-on-default-background), var(--sklearn-color-text-on-default-background));\n",
       "  background-size: 2px 100%;\n",
       "  background-repeat: no-repeat;\n",
       "  background-position: center center;\n",
       "}\n",
       "\n",
       "/* Parallel-specific style estimator block */\n",
       "\n",
       "#sk-container-id-1 div.sk-parallel-item::after {\n",
       "  content: \"\";\n",
       "  width: 100%;\n",
       "  border-bottom: 2px solid var(--sklearn-color-text-on-default-background);\n",
       "  flex-grow: 1;\n",
       "}\n",
       "\n",
       "#sk-container-id-1 div.sk-parallel {\n",
       "  display: flex;\n",
       "  align-items: stretch;\n",
       "  justify-content: center;\n",
       "  background-color: var(--sklearn-color-background);\n",
       "  position: relative;\n",
       "}\n",
       "\n",
       "#sk-container-id-1 div.sk-parallel-item {\n",
       "  display: flex;\n",
       "  flex-direction: column;\n",
       "}\n",
       "\n",
       "#sk-container-id-1 div.sk-parallel-item:first-child::after {\n",
       "  align-self: flex-end;\n",
       "  width: 50%;\n",
       "}\n",
       "\n",
       "#sk-container-id-1 div.sk-parallel-item:last-child::after {\n",
       "  align-self: flex-start;\n",
       "  width: 50%;\n",
       "}\n",
       "\n",
       "#sk-container-id-1 div.sk-parallel-item:only-child::after {\n",
       "  width: 0;\n",
       "}\n",
       "\n",
       "/* Serial-specific style estimator block */\n",
       "\n",
       "#sk-container-id-1 div.sk-serial {\n",
       "  display: flex;\n",
       "  flex-direction: column;\n",
       "  align-items: center;\n",
       "  background-color: var(--sklearn-color-background);\n",
       "  padding-right: 1em;\n",
       "  padding-left: 1em;\n",
       "}\n",
       "\n",
       "\n",
       "/* Toggleable style: style used for estimator/Pipeline/ColumnTransformer box that is\n",
       "clickable and can be expanded/collapsed.\n",
       "- Pipeline and ColumnTransformer use this feature and define the default style\n",
       "- Estimators will overwrite some part of the style using the `sk-estimator` class\n",
       "*/\n",
       "\n",
       "/* Pipeline and ColumnTransformer style (default) */\n",
       "\n",
       "#sk-container-id-1 div.sk-toggleable {\n",
       "  /* Default theme specific background. It is overwritten whether we have a\n",
       "  specific estimator or a Pipeline/ColumnTransformer */\n",
       "  background-color: var(--sklearn-color-background);\n",
       "}\n",
       "\n",
       "/* Toggleable label */\n",
       "#sk-container-id-1 label.sk-toggleable__label {\n",
       "  cursor: pointer;\n",
       "  display: flex;\n",
       "  width: 100%;\n",
       "  margin-bottom: 0;\n",
       "  padding: 0.5em;\n",
       "  box-sizing: border-box;\n",
       "  text-align: center;\n",
       "  align-items: start;\n",
       "  justify-content: space-between;\n",
       "  gap: 0.5em;\n",
       "}\n",
       "\n",
       "#sk-container-id-1 label.sk-toggleable__label .caption {\n",
       "  font-size: 0.6rem;\n",
       "  font-weight: lighter;\n",
       "  color: var(--sklearn-color-text-muted);\n",
       "}\n",
       "\n",
       "#sk-container-id-1 label.sk-toggleable__label-arrow:before {\n",
       "  /* Arrow on the left of the label */\n",
       "  content: \"▸\";\n",
       "  float: left;\n",
       "  margin-right: 0.25em;\n",
       "  color: var(--sklearn-color-icon);\n",
       "}\n",
       "\n",
       "#sk-container-id-1 label.sk-toggleable__label-arrow:hover:before {\n",
       "  color: var(--sklearn-color-text);\n",
       "}\n",
       "\n",
       "/* Toggleable content - dropdown */\n",
       "\n",
       "#sk-container-id-1 div.sk-toggleable__content {\n",
       "  max-height: 0;\n",
       "  max-width: 0;\n",
       "  overflow: hidden;\n",
       "  text-align: left;\n",
       "  /* unfitted */\n",
       "  background-color: var(--sklearn-color-unfitted-level-0);\n",
       "}\n",
       "\n",
       "#sk-container-id-1 div.sk-toggleable__content.fitted {\n",
       "  /* fitted */\n",
       "  background-color: var(--sklearn-color-fitted-level-0);\n",
       "}\n",
       "\n",
       "#sk-container-id-1 div.sk-toggleable__content pre {\n",
       "  margin: 0.2em;\n",
       "  border-radius: 0.25em;\n",
       "  color: var(--sklearn-color-text);\n",
       "  /* unfitted */\n",
       "  background-color: var(--sklearn-color-unfitted-level-0);\n",
       "}\n",
       "\n",
       "#sk-container-id-1 div.sk-toggleable__content.fitted pre {\n",
       "  /* unfitted */\n",
       "  background-color: var(--sklearn-color-fitted-level-0);\n",
       "}\n",
       "\n",
       "#sk-container-id-1 input.sk-toggleable__control:checked~div.sk-toggleable__content {\n",
       "  /* Expand drop-down */\n",
       "  max-height: 200px;\n",
       "  max-width: 100%;\n",
       "  overflow: auto;\n",
       "}\n",
       "\n",
       "#sk-container-id-1 input.sk-toggleable__control:checked~label.sk-toggleable__label-arrow:before {\n",
       "  content: \"▾\";\n",
       "}\n",
       "\n",
       "/* Pipeline/ColumnTransformer-specific style */\n",
       "\n",
       "#sk-container-id-1 div.sk-label input.sk-toggleable__control:checked~label.sk-toggleable__label {\n",
       "  color: var(--sklearn-color-text);\n",
       "  background-color: var(--sklearn-color-unfitted-level-2);\n",
       "}\n",
       "\n",
       "#sk-container-id-1 div.sk-label.fitted input.sk-toggleable__control:checked~label.sk-toggleable__label {\n",
       "  background-color: var(--sklearn-color-fitted-level-2);\n",
       "}\n",
       "\n",
       "/* Estimator-specific style */\n",
       "\n",
       "/* Colorize estimator box */\n",
       "#sk-container-id-1 div.sk-estimator input.sk-toggleable__control:checked~label.sk-toggleable__label {\n",
       "  /* unfitted */\n",
       "  background-color: var(--sklearn-color-unfitted-level-2);\n",
       "}\n",
       "\n",
       "#sk-container-id-1 div.sk-estimator.fitted input.sk-toggleable__control:checked~label.sk-toggleable__label {\n",
       "  /* fitted */\n",
       "  background-color: var(--sklearn-color-fitted-level-2);\n",
       "}\n",
       "\n",
       "#sk-container-id-1 div.sk-label label.sk-toggleable__label,\n",
       "#sk-container-id-1 div.sk-label label {\n",
       "  /* The background is the default theme color */\n",
       "  color: var(--sklearn-color-text-on-default-background);\n",
       "}\n",
       "\n",
       "/* On hover, darken the color of the background */\n",
       "#sk-container-id-1 div.sk-label:hover label.sk-toggleable__label {\n",
       "  color: var(--sklearn-color-text);\n",
       "  background-color: var(--sklearn-color-unfitted-level-2);\n",
       "}\n",
       "\n",
       "/* Label box, darken color on hover, fitted */\n",
       "#sk-container-id-1 div.sk-label.fitted:hover label.sk-toggleable__label.fitted {\n",
       "  color: var(--sklearn-color-text);\n",
       "  background-color: var(--sklearn-color-fitted-level-2);\n",
       "}\n",
       "\n",
       "/* Estimator label */\n",
       "\n",
       "#sk-container-id-1 div.sk-label label {\n",
       "  font-family: monospace;\n",
       "  font-weight: bold;\n",
       "  display: inline-block;\n",
       "  line-height: 1.2em;\n",
       "}\n",
       "\n",
       "#sk-container-id-1 div.sk-label-container {\n",
       "  text-align: center;\n",
       "}\n",
       "\n",
       "/* Estimator-specific */\n",
       "#sk-container-id-1 div.sk-estimator {\n",
       "  font-family: monospace;\n",
       "  border: 1px dotted var(--sklearn-color-border-box);\n",
       "  border-radius: 0.25em;\n",
       "  box-sizing: border-box;\n",
       "  margin-bottom: 0.5em;\n",
       "  /* unfitted */\n",
       "  background-color: var(--sklearn-color-unfitted-level-0);\n",
       "}\n",
       "\n",
       "#sk-container-id-1 div.sk-estimator.fitted {\n",
       "  /* fitted */\n",
       "  background-color: var(--sklearn-color-fitted-level-0);\n",
       "}\n",
       "\n",
       "/* on hover */\n",
       "#sk-container-id-1 div.sk-estimator:hover {\n",
       "  /* unfitted */\n",
       "  background-color: var(--sklearn-color-unfitted-level-2);\n",
       "}\n",
       "\n",
       "#sk-container-id-1 div.sk-estimator.fitted:hover {\n",
       "  /* fitted */\n",
       "  background-color: var(--sklearn-color-fitted-level-2);\n",
       "}\n",
       "\n",
       "/* Specification for estimator info (e.g. \"i\" and \"?\") */\n",
       "\n",
       "/* Common style for \"i\" and \"?\" */\n",
       "\n",
       ".sk-estimator-doc-link,\n",
       "a:link.sk-estimator-doc-link,\n",
       "a:visited.sk-estimator-doc-link {\n",
       "  float: right;\n",
       "  font-size: smaller;\n",
       "  line-height: 1em;\n",
       "  font-family: monospace;\n",
       "  background-color: var(--sklearn-color-background);\n",
       "  border-radius: 1em;\n",
       "  height: 1em;\n",
       "  width: 1em;\n",
       "  text-decoration: none !important;\n",
       "  margin-left: 0.5em;\n",
       "  text-align: center;\n",
       "  /* unfitted */\n",
       "  border: var(--sklearn-color-unfitted-level-1) 1pt solid;\n",
       "  color: var(--sklearn-color-unfitted-level-1);\n",
       "}\n",
       "\n",
       ".sk-estimator-doc-link.fitted,\n",
       "a:link.sk-estimator-doc-link.fitted,\n",
       "a:visited.sk-estimator-doc-link.fitted {\n",
       "  /* fitted */\n",
       "  border: var(--sklearn-color-fitted-level-1) 1pt solid;\n",
       "  color: var(--sklearn-color-fitted-level-1);\n",
       "}\n",
       "\n",
       "/* On hover */\n",
       "div.sk-estimator:hover .sk-estimator-doc-link:hover,\n",
       ".sk-estimator-doc-link:hover,\n",
       "div.sk-label-container:hover .sk-estimator-doc-link:hover,\n",
       ".sk-estimator-doc-link:hover {\n",
       "  /* unfitted */\n",
       "  background-color: var(--sklearn-color-unfitted-level-3);\n",
       "  color: var(--sklearn-color-background);\n",
       "  text-decoration: none;\n",
       "}\n",
       "\n",
       "div.sk-estimator.fitted:hover .sk-estimator-doc-link.fitted:hover,\n",
       ".sk-estimator-doc-link.fitted:hover,\n",
       "div.sk-label-container:hover .sk-estimator-doc-link.fitted:hover,\n",
       ".sk-estimator-doc-link.fitted:hover {\n",
       "  /* fitted */\n",
       "  background-color: var(--sklearn-color-fitted-level-3);\n",
       "  color: var(--sklearn-color-background);\n",
       "  text-decoration: none;\n",
       "}\n",
       "\n",
       "/* Span, style for the box shown on hovering the info icon */\n",
       ".sk-estimator-doc-link span {\n",
       "  display: none;\n",
       "  z-index: 9999;\n",
       "  position: relative;\n",
       "  font-weight: normal;\n",
       "  right: .2ex;\n",
       "  padding: .5ex;\n",
       "  margin: .5ex;\n",
       "  width: min-content;\n",
       "  min-width: 20ex;\n",
       "  max-width: 50ex;\n",
       "  color: var(--sklearn-color-text);\n",
       "  box-shadow: 2pt 2pt 4pt #999;\n",
       "  /* unfitted */\n",
       "  background: var(--sklearn-color-unfitted-level-0);\n",
       "  border: .5pt solid var(--sklearn-color-unfitted-level-3);\n",
       "}\n",
       "\n",
       ".sk-estimator-doc-link.fitted span {\n",
       "  /* fitted */\n",
       "  background: var(--sklearn-color-fitted-level-0);\n",
       "  border: var(--sklearn-color-fitted-level-3);\n",
       "}\n",
       "\n",
       ".sk-estimator-doc-link:hover span {\n",
       "  display: block;\n",
       "}\n",
       "\n",
       "/* \"?\"-specific style due to the `<a>` HTML tag */\n",
       "\n",
       "#sk-container-id-1 a.estimator_doc_link {\n",
       "  float: right;\n",
       "  font-size: 1rem;\n",
       "  line-height: 1em;\n",
       "  font-family: monospace;\n",
       "  background-color: var(--sklearn-color-background);\n",
       "  border-radius: 1rem;\n",
       "  height: 1rem;\n",
       "  width: 1rem;\n",
       "  text-decoration: none;\n",
       "  /* unfitted */\n",
       "  color: var(--sklearn-color-unfitted-level-1);\n",
       "  border: var(--sklearn-color-unfitted-level-1) 1pt solid;\n",
       "}\n",
       "\n",
       "#sk-container-id-1 a.estimator_doc_link.fitted {\n",
       "  /* fitted */\n",
       "  border: var(--sklearn-color-fitted-level-1) 1pt solid;\n",
       "  color: var(--sklearn-color-fitted-level-1);\n",
       "}\n",
       "\n",
       "/* On hover */\n",
       "#sk-container-id-1 a.estimator_doc_link:hover {\n",
       "  /* unfitted */\n",
       "  background-color: var(--sklearn-color-unfitted-level-3);\n",
       "  color: var(--sklearn-color-background);\n",
       "  text-decoration: none;\n",
       "}\n",
       "\n",
       "#sk-container-id-1 a.estimator_doc_link.fitted:hover {\n",
       "  /* fitted */\n",
       "  background-color: var(--sklearn-color-fitted-level-3);\n",
       "}\n",
       "</style><div id=\"sk-container-id-1\" class=\"sk-top-container\"><div class=\"sk-text-repr-fallback\"><pre>LogisticRegression(random_state=42)</pre><b>In a Jupyter environment, please rerun this cell to show the HTML representation or trust the notebook. <br />On GitHub, the HTML representation is unable to render, please try loading this page with nbviewer.org.</b></div><div class=\"sk-container\" hidden><div class=\"sk-item\"><div class=\"sk-estimator fitted sk-toggleable\"><input class=\"sk-toggleable__control sk-hidden--visually\" id=\"sk-estimator-id-1\" type=\"checkbox\" checked><label for=\"sk-estimator-id-1\" class=\"sk-toggleable__label fitted sk-toggleable__label-arrow\"><div><div>LogisticRegression</div></div><div><a class=\"sk-estimator-doc-link fitted\" rel=\"noreferrer\" target=\"_blank\" href=\"https://scikit-learn.org/1.6/modules/generated/sklearn.linear_model.LogisticRegression.html\">?<span>Documentation for LogisticRegression</span></a><span class=\"sk-estimator-doc-link fitted\">i<span>Fitted</span></span></div></label><div class=\"sk-toggleable__content fitted\"><pre>LogisticRegression(random_state=42)</pre></div> </div></div></div></div>"
      ],
      "text/plain": [
       "LogisticRegression(random_state=42)"
      ]
     },
     "execution_count": 7,
     "metadata": {},
     "output_type": "execute_result"
    }
   ],
   "source": [
    "lr_sklearn = LogisticRegression(random_state=42)\n",
    "lr_sklearn.fit(train_features, train_target)"
   ]
  },
  {
   "cell_type": "code",
   "execution_count": null,
   "metadata": {},
   "outputs": [
    {
     "data": {
      "text/plain": [
       "0.7787666666666667"
      ]
     },
     "execution_count": 8,
     "metadata": {},
     "output_type": "execute_result"
    }
   ],
   "source": [
    "lr_sklearn.score(train_features, train_target)"
   ]
  },
  {
   "cell_type": "code",
   "execution_count": null,
   "metadata": {},
   "outputs": [
    {
     "data": {
      "text/plain": [
       "default.payment.next.month\n",
       "0    0.7788\n",
       "1    0.2212\n",
       "Name: proportion, dtype: float64"
      ]
     },
     "execution_count": 10,
     "metadata": {},
     "output_type": "execute_result"
    }
   ],
   "source": [
    "train_target.value_counts(normalize=True)"
   ]
  },
  {
   "cell_type": "code",
   "execution_count": null,
   "metadata": {},
   "outputs": [
    {
     "name": "stdout",
     "output_type": "stream",
     "text": [
      "[0]\n"
     ]
    },
    {
     "name": "stderr",
     "output_type": "stream",
     "text": [
      "c:\\Users\\David gathara marigi\\AppData\\Local\\Programs\\Python\\Python311\\Lib\\site-packages\\sklearn\\utils\\validation.py:2739: UserWarning: X does not have valid feature names, but LogisticRegression was fitted with feature names\n",
      "  warnings.warn(\n"
     ]
    }
   ],
   "source": [
    "prediction = lr_sklearn.predict(train_features.iloc[-1].values.reshape(1,-1))\n",
    "print(prediction)\n"
   ]
  },
  {
   "cell_type": "code",
   "execution_count": null,
   "metadata": {},
   "outputs": [
    {
     "data": {
      "text/plain": [
       "array([[0.52829806, 0.47170194],\n",
       "       [0.62313842, 0.37686158],\n",
       "       [0.63307546, 0.36692454],\n",
       "       ...,\n",
       "       [0.73574074, 0.26425926],\n",
       "       [0.96991308, 0.03008692],\n",
       "       [0.73630216, 0.26369784]])"
      ]
     },
     "execution_count": 13,
     "metadata": {},
     "output_type": "execute_result"
    }
   ],
   "source": [
    "#to get probabiites of all the predictions\n",
    "lr_sklearn.predict_proba(train_features)"
   ]
  },
  {
   "cell_type": "code",
   "execution_count": null,
   "metadata": {},
   "outputs": [
    {
     "name": "stdout",
     "output_type": "stream",
     "text": [
      "[0 0 0 ... 0 0 0]\n"
     ]
    }
   ],
   "source": [
    "proba_predictions = lr_sklearn.predict_proba(train_features)[:,1]\n",
    "proba_predictions = (proba_predictions >= 0.5).astype('int')\n",
    "print(proba_predictions)"
   ]
  },
  {
   "cell_type": "code",
   "execution_count": null,
   "metadata": {},
   "outputs": [],
   "source": [
    "import numpy as np"
   ]
  },
  {
   "cell_type": "code",
   "execution_count": null,
   "metadata": {},
   "outputs": [
    {
     "data": {
      "text/plain": [
       "True"
      ]
     },
     "execution_count": 18,
     "metadata": {},
     "output_type": "execute_result"
    }
   ],
   "source": [
    "predictions = lr_sklearn.predict(train_features)\n",
    "np.array_equal(predictions, np.round(proba_predictions))"
   ]
  },
  {
   "cell_type": "code",
   "execution_count": null,
   "metadata": {},
   "outputs": [],
   "source": [
    "from sklearn.preprocessing import StandardScaler\n",
    "import matplotlib.pyplot as plt\n"
   ]
  },
  {
   "cell_type": "code",
   "execution_count": null,
   "metadata": {},
   "outputs": [
    {
     "name": "stderr",
     "output_type": "stream",
     "text": [
      "C:\\Users\\David gathara marigi\\AppData\\Local\\Temp\\ipykernel_15364\\2709086519.py:9: UserWarning: FigureCanvasAgg is non-interactive, and thus cannot be shown\n",
      "  plt.show()\n"
     ]
    }
   ],
   "source": [
    "scaler = StandardScaler()\n",
    "scaled_features = scaler.fit_transform(train_features)\n",
    "scaled_lr_model = LogisticRegression(random_state=42)\n",
    "scaled_lr_model.fit(scaled_features, train_target)\n",
    "logit_coef = np.exp(scaled_lr_model.coef_[0]) - 1\n",
    "idx = abs(logit_coef).argsort()[::-1]\n",
    "plt.bar(range(len(idx)), logit_coef[idx])\n",
    "plt.xticks(range(len(idx)), train_features.columns[idx],rotation=90)\n",
    "plt.show()"
   ]
  },
  {
   "cell_type": "code",
   "execution_count": null,
   "metadata": {},
   "outputs": [],
   "source": [
    "import statsmodels.api as sm"
   ]
  },
  {
   "cell_type": "code",
   "execution_count": null,
   "metadata": {},
   "outputs": [
    {
     "name": "stdout",
     "output_type": "stream",
     "text": [
      "Optimization terminated successfully.\n",
      "         Current function value: 0.465114\n",
      "         Iterations 7\n"
     ]
    },
    {
     "data": {
      "text/html": [
       "<table class=\"simpletable\">\n",
       "<caption>Logit Regression Results</caption>\n",
       "<tr>\n",
       "  <th>Dep. Variable:</th>   <td>default.payment.next.month</td> <th>  No. Observations:  </th>  <td> 30000</td> \n",
       "</tr>\n",
       "<tr>\n",
       "  <th>Model:</th>                      <td>Logit</td>           <th>  Df Residuals:      </th>  <td> 29976</td> \n",
       "</tr>\n",
       "<tr>\n",
       "  <th>Method:</th>                      <td>MLE</td>            <th>  Df Model:          </th>  <td>    23</td> \n",
       "</tr>\n",
       "<tr>\n",
       "  <th>Date:</th>                 <td>Sun, 16 Feb 2025</td>      <th>  Pseudo R-squ.:     </th>  <td>0.1198</td> \n",
       "</tr>\n",
       "<tr>\n",
       "  <th>Time:</th>                     <td>12:20:43</td>          <th>  Log-Likelihood:    </th> <td> -13953.</td>\n",
       "</tr>\n",
       "<tr>\n",
       "  <th>converged:</th>                  <td>True</td>            <th>  LL-Null:           </th> <td> -15853.</td>\n",
       "</tr>\n",
       "<tr>\n",
       "  <th>Covariance Type:</th>          <td>nonrobust</td>         <th>  LLR p-value:       </th>  <td> 0.000</td> \n",
       "</tr>\n",
       "</table>\n",
       "<table class=\"simpletable\">\n",
       "<tr>\n",
       "      <td></td>         <th>coef</th>     <th>std err</th>      <th>z</th>      <th>P>|z|</th>  <th>[0.025</th>    <th>0.975]</th>  \n",
       "</tr>\n",
       "<tr>\n",
       "  <th>ID</th>        <td> -3.27e-06</td> <td> 1.71e-06</td> <td>   -1.911</td> <td> 0.056</td> <td>-6.62e-06</td> <td> 8.44e-08</td>\n",
       "</tr>\n",
       "<tr>\n",
       "  <th>LIMIT_BAL</th> <td>-9.074e-07</td> <td> 1.55e-07</td> <td>   -5.845</td> <td> 0.000</td> <td>-1.21e-06</td> <td>-6.03e-07</td>\n",
       "</tr>\n",
       "<tr>\n",
       "  <th>SEX</th>       <td>   -0.1897</td> <td>    0.027</td> <td>   -7.084</td> <td> 0.000</td> <td>   -0.242</td> <td>   -0.137</td>\n",
       "</tr>\n",
       "<tr>\n",
       "  <th>EDUCATION</th> <td>   -0.1345</td> <td>    0.020</td> <td>   -6.650</td> <td> 0.000</td> <td>   -0.174</td> <td>   -0.095</td>\n",
       "</tr>\n",
       "<tr>\n",
       "  <th>MARRIAGE</th>  <td>   -0.2753</td> <td>    0.023</td> <td>  -11.942</td> <td> 0.000</td> <td>   -0.320</td> <td>   -0.230</td>\n",
       "</tr>\n",
       "<tr>\n",
       "  <th>AGE</th>       <td>    0.0010</td> <td>    0.001</td> <td>    0.728</td> <td> 0.466</td> <td>   -0.002</td> <td>    0.004</td>\n",
       "</tr>\n",
       "<tr>\n",
       "  <th>PAY_0</th>     <td>    0.5728</td> <td>    0.018</td> <td>   32.409</td> <td> 0.000</td> <td>    0.538</td> <td>    0.607</td>\n",
       "</tr>\n",
       "<tr>\n",
       "  <th>PAY_2</th>     <td>    0.0811</td> <td>    0.020</td> <td>    4.020</td> <td> 0.000</td> <td>    0.042</td> <td>    0.121</td>\n",
       "</tr>\n",
       "<tr>\n",
       "  <th>PAY_3</th>     <td>    0.0693</td> <td>    0.023</td> <td>    3.069</td> <td> 0.002</td> <td>    0.025</td> <td>    0.114</td>\n",
       "</tr>\n",
       "<tr>\n",
       "  <th>PAY_4</th>     <td>    0.0264</td> <td>    0.025</td> <td>    1.058</td> <td> 0.290</td> <td>   -0.023</td> <td>    0.075</td>\n",
       "</tr>\n",
       "<tr>\n",
       "  <th>PAY_5</th>     <td>    0.0321</td> <td>    0.027</td> <td>    1.194</td> <td> 0.232</td> <td>   -0.021</td> <td>    0.085</td>\n",
       "</tr>\n",
       "<tr>\n",
       "  <th>PAY_6</th>     <td>    0.0094</td> <td>    0.022</td> <td>    0.426</td> <td> 0.670</td> <td>   -0.034</td> <td>    0.053</td>\n",
       "</tr>\n",
       "<tr>\n",
       "  <th>BILL_AMT1</th> <td>-5.575e-06</td> <td> 1.14e-06</td> <td>   -4.883</td> <td> 0.000</td> <td>-7.81e-06</td> <td>-3.34e-06</td>\n",
       "</tr>\n",
       "<tr>\n",
       "  <th>BILL_AMT2</th> <td> 2.334e-06</td> <td> 1.51e-06</td> <td>    1.541</td> <td> 0.123</td> <td>-6.34e-07</td> <td>  5.3e-06</td>\n",
       "</tr>\n",
       "<tr>\n",
       "  <th>BILL_AMT3</th> <td> 1.438e-06</td> <td> 1.33e-06</td> <td>    1.081</td> <td> 0.280</td> <td>-1.17e-06</td> <td> 4.04e-06</td>\n",
       "</tr>\n",
       "<tr>\n",
       "  <th>BILL_AMT4</th> <td> 3.581e-08</td> <td> 1.35e-06</td> <td>    0.026</td> <td> 0.979</td> <td>-2.62e-06</td> <td> 2.69e-06</td>\n",
       "</tr>\n",
       "<tr>\n",
       "  <th>BILL_AMT5</th> <td> 4.243e-07</td> <td> 1.53e-06</td> <td>    0.277</td> <td> 0.782</td> <td>-2.58e-06</td> <td> 3.43e-06</td>\n",
       "</tr>\n",
       "<tr>\n",
       "  <th>BILL_AMT6</th> <td> 4.268e-07</td> <td> 1.21e-06</td> <td>    0.354</td> <td> 0.724</td> <td>-1.94e-06</td> <td> 2.79e-06</td>\n",
       "</tr>\n",
       "<tr>\n",
       "  <th>PAY_AMT1</th>  <td>-1.402e-05</td> <td> 2.33e-06</td> <td>   -6.016</td> <td> 0.000</td> <td>-1.86e-05</td> <td>-9.45e-06</td>\n",
       "</tr>\n",
       "<tr>\n",
       "  <th>PAY_AMT2</th>  <td>-9.908e-06</td> <td> 2.11e-06</td> <td>   -4.688</td> <td> 0.000</td> <td>-1.41e-05</td> <td>-5.77e-06</td>\n",
       "</tr>\n",
       "<tr>\n",
       "  <th>PAY_AMT3</th>  <td>-2.769e-06</td> <td> 1.73e-06</td> <td>   -1.600</td> <td> 0.110</td> <td>-6.16e-06</td> <td> 6.22e-07</td>\n",
       "</tr>\n",
       "<tr>\n",
       "  <th>PAY_AMT4</th>  <td>-3.987e-06</td> <td> 1.79e-06</td> <td>   -2.225</td> <td> 0.026</td> <td> -7.5e-06</td> <td>-4.75e-07</td>\n",
       "</tr>\n",
       "<tr>\n",
       "  <th>PAY_AMT5</th>  <td>-3.364e-06</td> <td> 1.79e-06</td> <td>   -1.878</td> <td> 0.060</td> <td>-6.88e-06</td> <td> 1.47e-07</td>\n",
       "</tr>\n",
       "<tr>\n",
       "  <th>PAY_AMT6</th>  <td>-2.085e-06</td> <td>  1.3e-06</td> <td>   -1.606</td> <td> 0.108</td> <td>-4.63e-06</td> <td> 4.59e-07</td>\n",
       "</tr>\n",
       "</table>"
      ],
      "text/latex": [
       "\\begin{center}\n",
       "\\begin{tabular}{lclc}\n",
       "\\toprule\n",
       "\\textbf{Dep. Variable:}   & default.payment.next.month & \\textbf{  No. Observations:  } &    30000    \\\\\n",
       "\\textbf{Model:}           &           Logit            & \\textbf{  Df Residuals:      } &    29976    \\\\\n",
       "\\textbf{Method:}          &            MLE             & \\textbf{  Df Model:          } &       23    \\\\\n",
       "\\textbf{Date:}            &      Sun, 16 Feb 2025      & \\textbf{  Pseudo R-squ.:     } &   0.1198    \\\\\n",
       "\\textbf{Time:}            &          12:20:43          & \\textbf{  Log-Likelihood:    } &   -13953.   \\\\\n",
       "\\textbf{converged:}       &            True            & \\textbf{  LL-Null:           } &   -15853.   \\\\\n",
       "\\textbf{Covariance Type:} &         nonrobust          & \\textbf{  LLR p-value:       } &    0.000    \\\\\n",
       "\\bottomrule\n",
       "\\end{tabular}\n",
       "\\begin{tabular}{lcccccc}\n",
       "                    & \\textbf{coef} & \\textbf{std err} & \\textbf{z} & \\textbf{P$> |$z$|$} & \\textbf{[0.025} & \\textbf{0.975]}  \\\\\n",
       "\\midrule\n",
       "\\textbf{ID}         &    -3.27e-06  &     1.71e-06     &    -1.911  &         0.056        &    -6.62e-06    &     8.44e-08     \\\\\n",
       "\\textbf{LIMIT\\_BAL} &   -9.074e-07  &     1.55e-07     &    -5.845  &         0.000        &    -1.21e-06    &    -6.03e-07     \\\\\n",
       "\\textbf{SEX}        &      -0.1897  &        0.027     &    -7.084  &         0.000        &       -0.242    &       -0.137     \\\\\n",
       "\\textbf{EDUCATION}  &      -0.1345  &        0.020     &    -6.650  &         0.000        &       -0.174    &       -0.095     \\\\\n",
       "\\textbf{MARRIAGE}   &      -0.2753  &        0.023     &   -11.942  &         0.000        &       -0.320    &       -0.230     \\\\\n",
       "\\textbf{AGE}        &       0.0010  &        0.001     &     0.728  &         0.466        &       -0.002    &        0.004     \\\\\n",
       "\\textbf{PAY\\_0}     &       0.5728  &        0.018     &    32.409  &         0.000        &        0.538    &        0.607     \\\\\n",
       "\\textbf{PAY\\_2}     &       0.0811  &        0.020     &     4.020  &         0.000        &        0.042    &        0.121     \\\\\n",
       "\\textbf{PAY\\_3}     &       0.0693  &        0.023     &     3.069  &         0.002        &        0.025    &        0.114     \\\\\n",
       "\\textbf{PAY\\_4}     &       0.0264  &        0.025     &     1.058  &         0.290        &       -0.023    &        0.075     \\\\\n",
       "\\textbf{PAY\\_5}     &       0.0321  &        0.027     &     1.194  &         0.232        &       -0.021    &        0.085     \\\\\n",
       "\\textbf{PAY\\_6}     &       0.0094  &        0.022     &     0.426  &         0.670        &       -0.034    &        0.053     \\\\\n",
       "\\textbf{BILL\\_AMT1} &   -5.575e-06  &     1.14e-06     &    -4.883  &         0.000        &    -7.81e-06    &    -3.34e-06     \\\\\n",
       "\\textbf{BILL\\_AMT2} &    2.334e-06  &     1.51e-06     &     1.541  &         0.123        &    -6.34e-07    &      5.3e-06     \\\\\n",
       "\\textbf{BILL\\_AMT3} &    1.438e-06  &     1.33e-06     &     1.081  &         0.280        &    -1.17e-06    &     4.04e-06     \\\\\n",
       "\\textbf{BILL\\_AMT4} &    3.581e-08  &     1.35e-06     &     0.026  &         0.979        &    -2.62e-06    &     2.69e-06     \\\\\n",
       "\\textbf{BILL\\_AMT5} &    4.243e-07  &     1.53e-06     &     0.277  &         0.782        &    -2.58e-06    &     3.43e-06     \\\\\n",
       "\\textbf{BILL\\_AMT6} &    4.268e-07  &     1.21e-06     &     0.354  &         0.724        &    -1.94e-06    &     2.79e-06     \\\\\n",
       "\\textbf{PAY\\_AMT1}  &   -1.402e-05  &     2.33e-06     &    -6.016  &         0.000        &    -1.86e-05    &    -9.45e-06     \\\\\n",
       "\\textbf{PAY\\_AMT2}  &   -9.908e-06  &     2.11e-06     &    -4.688  &         0.000        &    -1.41e-05    &    -5.77e-06     \\\\\n",
       "\\textbf{PAY\\_AMT3}  &   -2.769e-06  &     1.73e-06     &    -1.600  &         0.110        &    -6.16e-06    &     6.22e-07     \\\\\n",
       "\\textbf{PAY\\_AMT4}  &   -3.987e-06  &     1.79e-06     &    -2.225  &         0.026        &     -7.5e-06    &    -4.75e-07     \\\\\n",
       "\\textbf{PAY\\_AMT5}  &   -3.364e-06  &     1.79e-06     &    -1.878  &         0.060        &    -6.88e-06    &     1.47e-07     \\\\\n",
       "\\textbf{PAY\\_AMT6}  &   -2.085e-06  &      1.3e-06     &    -1.606  &         0.108        &    -4.63e-06    &     4.59e-07     \\\\\n",
       "\\bottomrule\n",
       "\\end{tabular}\n",
       "%\\caption{Logit Regression Results}\n",
       "\\end{center}"
      ],
      "text/plain": [
       "<class 'statsmodels.iolib.summary.Summary'>\n",
       "\"\"\"\n",
       "                               Logit Regression Results                               \n",
       "======================================================================================\n",
       "Dep. Variable:     default.payment.next.month   No. Observations:                30000\n",
       "Model:                                  Logit   Df Residuals:                    29976\n",
       "Method:                                   MLE   Df Model:                           23\n",
       "Date:                        Sun, 16 Feb 2025   Pseudo R-squ.:                  0.1198\n",
       "Time:                                12:20:43   Log-Likelihood:                -13953.\n",
       "converged:                               True   LL-Null:                       -15853.\n",
       "Covariance Type:                    nonrobust   LLR p-value:                     0.000\n",
       "==============================================================================\n",
       "                 coef    std err          z      P>|z|      [0.025      0.975]\n",
       "------------------------------------------------------------------------------\n",
       "ID          -3.27e-06   1.71e-06     -1.911      0.056   -6.62e-06    8.44e-08\n",
       "LIMIT_BAL  -9.074e-07   1.55e-07     -5.845      0.000   -1.21e-06   -6.03e-07\n",
       "SEX           -0.1897      0.027     -7.084      0.000      -0.242      -0.137\n",
       "EDUCATION     -0.1345      0.020     -6.650      0.000      -0.174      -0.095\n",
       "MARRIAGE      -0.2753      0.023    -11.942      0.000      -0.320      -0.230\n",
       "AGE            0.0010      0.001      0.728      0.466      -0.002       0.004\n",
       "PAY_0          0.5728      0.018     32.409      0.000       0.538       0.607\n",
       "PAY_2          0.0811      0.020      4.020      0.000       0.042       0.121\n",
       "PAY_3          0.0693      0.023      3.069      0.002       0.025       0.114\n",
       "PAY_4          0.0264      0.025      1.058      0.290      -0.023       0.075\n",
       "PAY_5          0.0321      0.027      1.194      0.232      -0.021       0.085\n",
       "PAY_6          0.0094      0.022      0.426      0.670      -0.034       0.053\n",
       "BILL_AMT1  -5.575e-06   1.14e-06     -4.883      0.000   -7.81e-06   -3.34e-06\n",
       "BILL_AMT2   2.334e-06   1.51e-06      1.541      0.123   -6.34e-07     5.3e-06\n",
       "BILL_AMT3   1.438e-06   1.33e-06      1.081      0.280   -1.17e-06    4.04e-06\n",
       "BILL_AMT4   3.581e-08   1.35e-06      0.026      0.979   -2.62e-06    2.69e-06\n",
       "BILL_AMT5   4.243e-07   1.53e-06      0.277      0.782   -2.58e-06    3.43e-06\n",
       "BILL_AMT6   4.268e-07   1.21e-06      0.354      0.724   -1.94e-06    2.79e-06\n",
       "PAY_AMT1   -1.402e-05   2.33e-06     -6.016      0.000   -1.86e-05   -9.45e-06\n",
       "PAY_AMT2   -9.908e-06   2.11e-06     -4.688      0.000   -1.41e-05   -5.77e-06\n",
       "PAY_AMT3   -2.769e-06   1.73e-06     -1.600      0.110   -6.16e-06    6.22e-07\n",
       "PAY_AMT4   -3.987e-06   1.79e-06     -2.225      0.026    -7.5e-06   -4.75e-07\n",
       "PAY_AMT5   -3.364e-06   1.79e-06     -1.878      0.060   -6.88e-06    1.47e-07\n",
       "PAY_AMT6   -2.085e-06    1.3e-06     -1.606      0.108   -4.63e-06    4.59e-07\n",
       "==============================================================================\n",
       "\"\"\""
      ]
     },
     "execution_count": 25,
     "metadata": {},
     "output_type": "execute_result"
    }
   ],
   "source": [
    "import numpy as np\n",
    "np.random.seed(42)\n",
    "lr_model = sm.Logit(train_target, train_features)\n",
    "lr_results = lr_model.fit()\n",
    "lr_results.summary()"
   ]
  },
  {
   "cell_type": "code",
   "execution_count": null,
   "metadata": {},
   "outputs": [
    {
     "name": "stdout",
     "output_type": "stream",
     "text": [
      "Optimization terminated successfully.\n",
      "         Current function value: 0.466015\n",
      "         Iterations 7\n"
     ]
    },
    {
     "data": {
      "text/html": [
       "<table class=\"simpletable\">\n",
       "<caption>Logit Regression Results</caption>\n",
       "<tr>\n",
       "  <th>Dep. Variable:</th>   <td>default.payment.next.month</td> <th>  No. Observations:  </th>  <td> 30000</td> \n",
       "</tr>\n",
       "<tr>\n",
       "  <th>Model:</th>                      <td>Logit</td>           <th>  Df Residuals:      </th>  <td> 29989</td> \n",
       "</tr>\n",
       "<tr>\n",
       "  <th>Method:</th>                      <td>MLE</td>            <th>  Df Model:          </th>  <td>    10</td> \n",
       "</tr>\n",
       "<tr>\n",
       "  <th>Date:</th>                 <td>Sun, 16 Feb 2025</td>      <th>  Pseudo R-squ.:     </th>  <td>0.1181</td> \n",
       "</tr>\n",
       "<tr>\n",
       "  <th>Time:</th>                     <td>12:22:49</td>          <th>  Log-Likelihood:    </th> <td> -13980.</td>\n",
       "</tr>\n",
       "<tr>\n",
       "  <th>converged:</th>                  <td>True</td>            <th>  LL-Null:           </th> <td> -15853.</td>\n",
       "</tr>\n",
       "<tr>\n",
       "  <th>Covariance Type:</th>          <td>nonrobust</td>         <th>  LLR p-value:       </th>  <td> 0.000</td> \n",
       "</tr>\n",
       "</table>\n",
       "<table class=\"simpletable\">\n",
       "<tr>\n",
       "      <td></td>         <th>coef</th>     <th>std err</th>      <th>z</th>      <th>P>|z|</th>  <th>[0.025</th>    <th>0.975]</th>  \n",
       "</tr>\n",
       "<tr>\n",
       "  <th>LIMIT_BAL</th> <td>-1.044e-06</td> <td> 1.43e-07</td> <td>   -7.308</td> <td> 0.000</td> <td>-1.32e-06</td> <td>-7.64e-07</td>\n",
       "</tr>\n",
       "<tr>\n",
       "  <th>SEX</th>       <td>   -0.1914</td> <td>    0.025</td> <td>   -7.589</td> <td> 0.000</td> <td>   -0.241</td> <td>   -0.142</td>\n",
       "</tr>\n",
       "<tr>\n",
       "  <th>EDUCATION</th> <td>   -0.1380</td> <td>    0.017</td> <td>   -8.102</td> <td> 0.000</td> <td>   -0.171</td> <td>   -0.105</td>\n",
       "</tr>\n",
       "<tr>\n",
       "  <th>MARRIAGE</th>  <td>   -0.2874</td> <td>    0.022</td> <td>  -12.816</td> <td> 0.000</td> <td>   -0.331</td> <td>   -0.243</td>\n",
       "</tr>\n",
       "<tr>\n",
       "  <th>PAY_0</th>     <td>    0.5883</td> <td>    0.018</td> <td>   33.603</td> <td> 0.000</td> <td>    0.554</td> <td>    0.623</td>\n",
       "</tr>\n",
       "<tr>\n",
       "  <th>PAY_2</th>     <td>    0.0821</td> <td>    0.020</td> <td>    4.125</td> <td> 0.000</td> <td>    0.043</td> <td>    0.121</td>\n",
       "</tr>\n",
       "<tr>\n",
       "  <th>PAY_3</th>     <td>    0.1191</td> <td>    0.018</td> <td>    6.484</td> <td> 0.000</td> <td>    0.083</td> <td>    0.155</td>\n",
       "</tr>\n",
       "<tr>\n",
       "  <th>BILL_AMT1</th> <td>-1.759e-06</td> <td> 2.65e-07</td> <td>   -6.625</td> <td> 0.000</td> <td>-2.28e-06</td> <td>-1.24e-06</td>\n",
       "</tr>\n",
       "<tr>\n",
       "  <th>PAY_AMT1</th>  <td>-1.205e-05</td> <td>  2.1e-06</td> <td>   -5.730</td> <td> 0.000</td> <td>-1.62e-05</td> <td>-7.93e-06</td>\n",
       "</tr>\n",
       "<tr>\n",
       "  <th>PAY_AMT2</th>  <td>-8.389e-06</td> <td> 1.81e-06</td> <td>   -4.634</td> <td> 0.000</td> <td>-1.19e-05</td> <td>-4.84e-06</td>\n",
       "</tr>\n",
       "<tr>\n",
       "  <th>PAY_AMT4</th>  <td>-4.517e-06</td> <td> 1.56e-06</td> <td>   -2.900</td> <td> 0.004</td> <td>-7.57e-06</td> <td>-1.46e-06</td>\n",
       "</tr>\n",
       "</table>"
      ],
      "text/latex": [
       "\\begin{center}\n",
       "\\begin{tabular}{lclc}\n",
       "\\toprule\n",
       "\\textbf{Dep. Variable:}   & default.payment.next.month & \\textbf{  No. Observations:  } &    30000    \\\\\n",
       "\\textbf{Model:}           &           Logit            & \\textbf{  Df Residuals:      } &    29989    \\\\\n",
       "\\textbf{Method:}          &            MLE             & \\textbf{  Df Model:          } &       10    \\\\\n",
       "\\textbf{Date:}            &      Sun, 16 Feb 2025      & \\textbf{  Pseudo R-squ.:     } &   0.1181    \\\\\n",
       "\\textbf{Time:}            &          12:22:49          & \\textbf{  Log-Likelihood:    } &   -13980.   \\\\\n",
       "\\textbf{converged:}       &            True            & \\textbf{  LL-Null:           } &   -15853.   \\\\\n",
       "\\textbf{Covariance Type:} &         nonrobust          & \\textbf{  LLR p-value:       } &    0.000    \\\\\n",
       "\\bottomrule\n",
       "\\end{tabular}\n",
       "\\begin{tabular}{lcccccc}\n",
       "                    & \\textbf{coef} & \\textbf{std err} & \\textbf{z} & \\textbf{P$> |$z$|$} & \\textbf{[0.025} & \\textbf{0.975]}  \\\\\n",
       "\\midrule\n",
       "\\textbf{LIMIT\\_BAL} &   -1.044e-06  &     1.43e-07     &    -7.308  &         0.000        &    -1.32e-06    &    -7.64e-07     \\\\\n",
       "\\textbf{SEX}        &      -0.1914  &        0.025     &    -7.589  &         0.000        &       -0.241    &       -0.142     \\\\\n",
       "\\textbf{EDUCATION}  &      -0.1380  &        0.017     &    -8.102  &         0.000        &       -0.171    &       -0.105     \\\\\n",
       "\\textbf{MARRIAGE}   &      -0.2874  &        0.022     &   -12.816  &         0.000        &       -0.331    &       -0.243     \\\\\n",
       "\\textbf{PAY\\_0}     &       0.5883  &        0.018     &    33.603  &         0.000        &        0.554    &        0.623     \\\\\n",
       "\\textbf{PAY\\_2}     &       0.0821  &        0.020     &     4.125  &         0.000        &        0.043    &        0.121     \\\\\n",
       "\\textbf{PAY\\_3}     &       0.1191  &        0.018     &     6.484  &         0.000        &        0.083    &        0.155     \\\\\n",
       "\\textbf{BILL\\_AMT1} &   -1.759e-06  &     2.65e-07     &    -6.625  &         0.000        &    -2.28e-06    &    -1.24e-06     \\\\\n",
       "\\textbf{PAY\\_AMT1}  &   -1.205e-05  &      2.1e-06     &    -5.730  &         0.000        &    -1.62e-05    &    -7.93e-06     \\\\\n",
       "\\textbf{PAY\\_AMT2}  &   -8.389e-06  &     1.81e-06     &    -4.634  &         0.000        &    -1.19e-05    &    -4.84e-06     \\\\\n",
       "\\textbf{PAY\\_AMT4}  &   -4.517e-06  &     1.56e-06     &    -2.900  &         0.004        &    -7.57e-06    &    -1.46e-06     \\\\\n",
       "\\bottomrule\n",
       "\\end{tabular}\n",
       "%\\caption{Logit Regression Results}\n",
       "\\end{center}"
      ],
      "text/plain": [
       "<class 'statsmodels.iolib.summary.Summary'>\n",
       "\"\"\"\n",
       "                               Logit Regression Results                               \n",
       "======================================================================================\n",
       "Dep. Variable:     default.payment.next.month   No. Observations:                30000\n",
       "Model:                                  Logit   Df Residuals:                    29989\n",
       "Method:                                   MLE   Df Model:                           10\n",
       "Date:                        Sun, 16 Feb 2025   Pseudo R-squ.:                  0.1181\n",
       "Time:                                12:22:49   Log-Likelihood:                -13980.\n",
       "converged:                               True   LL-Null:                       -15853.\n",
       "Covariance Type:                    nonrobust   LLR p-value:                     0.000\n",
       "==============================================================================\n",
       "                 coef    std err          z      P>|z|      [0.025      0.975]\n",
       "------------------------------------------------------------------------------\n",
       "LIMIT_BAL  -1.044e-06   1.43e-07     -7.308      0.000   -1.32e-06   -7.64e-07\n",
       "SEX           -0.1914      0.025     -7.589      0.000      -0.241      -0.142\n",
       "EDUCATION     -0.1380      0.017     -8.102      0.000      -0.171      -0.105\n",
       "MARRIAGE      -0.2874      0.022    -12.816      0.000      -0.331      -0.243\n",
       "PAY_0          0.5883      0.018     33.603      0.000       0.554       0.623\n",
       "PAY_2          0.0821      0.020      4.125      0.000       0.043       0.121\n",
       "PAY_3          0.1191      0.018      6.484      0.000       0.083       0.155\n",
       "BILL_AMT1  -1.759e-06   2.65e-07     -6.625      0.000   -2.28e-06   -1.24e-06\n",
       "PAY_AMT1   -1.205e-05    2.1e-06     -5.730      0.000   -1.62e-05   -7.93e-06\n",
       "PAY_AMT2   -8.389e-06   1.81e-06     -4.634      0.000   -1.19e-05   -4.84e-06\n",
       "PAY_AMT4   -4.517e-06   1.56e-06     -2.900      0.004   -7.57e-06   -1.46e-06\n",
       "==============================================================================\n",
       "\"\"\""
      ]
     },
     "execution_count": 27,
     "metadata": {},
     "output_type": "execute_result"
    }
   ],
   "source": [
    "pvalues = lr_results.pvalues\n",
    "pvalues = pvalues.reindex(sm.add_constant(train_features).columns)\n",
    "selected_features = sm.add_constant(train_features).loc[:, pvalues < 0.05]\n",
    "lr_model_trimmed = sm.Logit(train_target, selected_features)\n",
    "lr_trimmed_results = lr_model_trimmed.fit()\n",
    "lr_trimmed_results.summary()"
   ]
  },
  {
   "cell_type": "code",
   "execution_count": null,
   "metadata": {},
   "outputs": [
    {
     "data": {
      "text/plain": [
       "0        0.560231\n",
       "1        0.141794\n",
       "2        0.195553\n",
       "3        0.244711\n",
       "4        0.129879\n",
       "           ...   \n",
       "29995    0.149471\n",
       "29996    0.101418\n",
       "29997    0.850581\n",
       "29998    0.176543\n",
       "29999    0.281722\n",
       "Length: 30000, dtype: float64"
      ]
     },
     "execution_count": 28,
     "metadata": {},
     "output_type": "execute_result"
    }
   ],
   "source": [
    "lr_trimmed_results.predict(selected_features)\n"
   ]
  },
  {
   "cell_type": "code",
   "execution_count": null,
   "metadata": {},
   "outputs": [],
   "source": [
    "predictions = (lr_trimmed_results.predict(selected_features) > 0.5).astype('int')"
   ]
  },
  {
   "cell_type": "code",
   "execution_count": null,
   "metadata": {},
   "outputs": [],
   "source": [
    "from sklearn.metrics import accuracy_score"
   ]
  },
  {
   "cell_type": "code",
   "execution_count": null,
   "metadata": {},
   "outputs": [
    {
     "data": {
      "text/plain": [
       "0.8097333333333333"
      ]
     },
     "execution_count": 31,
     "metadata": {},
     "output_type": "execute_result"
    }
   ],
   "source": [
    "accuracy_score(predictions, train_target)"
   ]
  }
 ],
 "metadata": {
  "kernelspec": {
   "display_name": "Python 3",
   "language": "python",
   "name": "python3"
  },
  "language_info": {
   "codemirror_mode": {
    "name": "ipython",
    "version": 3
   },
   "file_extension": ".py",
   "mimetype": "text/x-python",
   "name": "python",
   "nbconvert_exporter": "python",
   "pygments_lexer": "ipython3",
   "version": "3.12.9"
  }
 },
 "nbformat": 4,
 "nbformat_minor": 2
}
